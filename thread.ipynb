{
 "cells": [
  {
   "cell_type": "markdown",
   "metadata": {},
   "source": [
    "## Programmation concurente - SUJET"
   ]
  },
  {
   "cell_type": "markdown",
   "metadata": {},
   "source": [
    "**Ressources** : <a href=\"https://webge.fr/dokuwiki/doku.php?id=python:accueilpython\" target=\"_blank\"><button>Wiki Python sur WebGE</button></a> <a href=\"https://realpython.com/python-logging/\" target=\"_blank\"><button>Logging in Python</button></a> <a href=\"https://realpython.com/intro-to-python-threading/\" target=\"_blank\"><button>An Intro to Threading in Python</button></a>"
   ]
  },
  {
   "cell_type": "markdown",
   "metadata": {},
   "source": [
    "### Sommaire\n",
    "<ol>\n",
    "    <li>Introduction\n",
    "        <ol>\n",
    "            <li>Les processus</li>\n",
    "            <li>Les threads</li>\n",
    "            <li>Quelle est la différence entre un Thread et un Processus ?</li>\n",
    "        </ol>\n",
    "    </li>\n",
    "    <li>Illustration de l'ordre d'exécution de threads</li>\n",
    "    <li>Ressource partagée</li>\n",
    "        <ol>\n",
    "            <li>Problème de concurrence</li>\n",
    "            <li>Section critique</li>\n",
    "        </ol>\n",
    "    <li>Interblocage</li>\n",
    "    <li>Synthèse</li>\n",
    "    <li>A savoir</li>\n",
    "</ol>"
   ]
  },
  {
   "cell_type": "markdown",
   "metadata": {},
   "source": [
    "### 1. Introduction\n",
    "#### 1.a Les processus\n",
    "<em>Grâce à leur système d'exploitation **multitâche**, les ordinateurs exécutent plusieurs programmes de façon **concurrente**. L'exécution d'un programme s'appelle un **processus**. C'est le système d'exploitation, et en particulier l'**ordonnanceur** (une des fonctionnalités du **noyau**), qui détermine quel processus s'exécute à un instant donné. Le fait pour un processus d'être interrompu s'appelle une **commutation de contexte**. Plusieurs processus s'exécutant de façon concurrente peuvent s'**interbloquer** s'ils attendent de pouvoir accéder à un même ensemble de **ressources en accès exclusif**. </em><br>\n",
    "<img src=\"img/se.png\"> <br>\n",
    "#### 1.b Les threads\n",
    "<em>Les **threads** ou processus légers sont des \"sous-processus\", démarrés par un processus et s'exécutant de manière concurrente avec le reste du programme. L'accès à des ressources par plusieurs threads peut être protégé par des **verrous**. Une portion de code comprise entre l'acquisition et le relâchement d'un verrou s'appelle une **section critique**. <br>\n",
    "Le module threading de la bibliothèque standard Python permet de démarrer des threads.</em><br>\n",
    "#### 1.c Quelle est la différence entre un Thread et un Processus ?\n",
    "<em>Les threads (du même processus) s'exécutent dans un espace mémoire partagé, tandis que les processus s'exécutent dans des espaces mémoire différents.</em>\n",
    "<img src=\"img/threads.png\"> "
   ]
  },
  {
   "cell_type": "markdown",
   "metadata": {},
   "source": [
    "-----\n",
    "\n",
    "### Objectifs\n",
    "> **Illustrer l'ordre d'exécution de threads, les problèmes de concurrence et d'interblocage**. \n",
    "\n",
    "-----"
   ]
  },
  {
   "cell_type": "markdown",
   "metadata": {},
   "source": [
    "### 2. Illustration de l'ordre d'exécution de threads\n",
    "<em>Dans le code ci-dessous, le programme principal crée quatre threads <span class=\"code\"><strong>th</strong></span> à l'aide de l'instruction <span style=\"font-family:Consolas;font-weight:bold;font-style:normal\">threading.Thread(target=hello, arg=[n])</span>. Lorsque l'on crée un thread, on lui transmet une fonction et la liste des arguments de cette fonction. La méthode **start()** lance l'exécution du thread en tâche de fond. Cette méthode rend la main et le programme principal continue de s'exécuter de façon concurrente au(x) thread(s) démarré(s). Une fois la boucle <strong>for</strong> exécutée, le programme comporte cinq *threads* : les quatre démarrés par start() plus celui associé au programme principal. Un compteur <strong>cmpt</strong> est créé dans chaque thread pour illustrer leur ordre d'exécution.</em>\n",
    "\n",
    "<strong>Note</strong> : la bibliothèque <a href=\"https://docs.python.org/fr/3/howto/logging.html\" target=\"_blank\">logging</a> est dédiée à la journalisation."
   ]
  },
  {
   "cell_type": "code",
   "execution_count": null,
   "metadata": {},
   "outputs": [],
   "source": [
    "# Programmation concurente - Illustration de l'ordre d'exécution de threads \n",
    "import threading\n",
    "import logging # Cette bibliothèque est dédiée à la journalisation\n",
    "import time\n",
    "\n",
    "# Fonction associée aux threads 0 à 3\n",
    "def hello(num):\n",
    "    logging.info(f\"Thread {num}: démarrage\")\n",
    "    for i in range(5):\n",
    "        logging.info(f\"Thread {num} : cmpt{num}={i}\")\n",
    "        time.sleep(0.5) # Simulation d'un programme plus long\n",
    "    logging.info(f\"Thread {num}: terminé\")\n",
    "\n",
    "# Programme principal\n",
    "# Formatage des informations affichées lors du déroulement du programme\n",
    "format = \"%(asctime)s: %(message)s\"\n",
    "logging.basicConfig(format=format, level=logging.INFO, # filename='thread.log', filemode='a',\n",
    "                        datefmt=\"%H:%M:%S\", encoding='utf-8')\n",
    "for numth in range(4):                                # Création des threads 0 à 3\n",
    "    th = threading.Thread(target=hello, args=[numth]) # l'argument de type target est une fonction et l'argument \n",
    "                                                      # args est un tableau d'arguments passés à la fonction.\n",
    "                                                      # Ici, on passe le numéro numth du thread th à des fins d'affichage.\n",
    "    logging.info(f\"PPrinc : avant de lancer le Thread {numth}\")\n",
    "    th.start()                                                                                          "
   ]
  },
  {
   "cell_type": "markdown",
   "metadata": {},
   "source": [
    "> **Activité 1 <br>\n",
    "> Exécutez** plusieurs fois le code ci-dessus. Que peut-on dire de l'ordre d'exécution des threads et de l'ordre dans lequel ils s'arrêtent ?"
   ]
  },
  {
   "cell_type": "markdown",
   "metadata": {},
   "source": [
    "<p style=\"color:blue; font-weight:bold\"><em>Réponse Activité 1</em></p>\n",
    "A rédiger ici"
   ]
  },
  {
   "cell_type": "markdown",
   "metadata": {},
   "source": [
    "<table><tr><td style=\"color:red; font-size:14px\"><strong>REMARQUE</strong> : l'ordre dans lequel sont démarrés les threads ne donne aucune indication sur l'ordre dans lequel ils peuvent se terminer.</td></tr></table>"
   ]
  },
  {
   "cell_type": "markdown",
   "metadata": {},
   "source": [
    "#### 3. Ressource partagée\n",
    "#### 3.A Problème de concurence\n",
    "<em>Dans le programme ci-dessous, la variable globale **COMPTEUR** représente une **ressource partagée** par plusieurs threads. Comme hello dans le programme précédent, la fonction **incrc** s'exécute dans des threads.</em>"
   ]
  },
  {
   "cell_type": "code",
   "execution_count": 1,
   "metadata": {},
   "outputs": [
    {
     "name": "stderr",
     "output_type": "stream",
     "text": [
      "14:49:07: Thread 0 - cpt=0\n",
      "14:49:07: Thread 1 - cpt=0\n",
      "14:49:07: Thread 2 - cpt=0\n",
      "14:49:07: Thread 0 - cpt=1\n",
      "14:49:07: Thread 3 - cpt=1\n",
      "14:49:07: Thread 1 - cpt=1\n",
      "14:49:07: Thread 2 - cpt=1\n",
      "14:49:07: Thread 0 - cpt=2\n",
      "14:49:07: Thread 3 - cpt=2\n",
      "14:49:07: Thread 1 - cpt=2\n",
      "14:49:07: Thread 2 - cpt=2\n",
      "14:49:07: Thread 0 - cpt=3\n",
      "14:49:07: Thread 3 - cpt=3\n",
      "14:49:07: Thread 1 - cpt=3\n",
      "14:49:07: Thread 2 - cpt=3\n",
      "14:49:07: Thread 0 - cpt=4\n",
      "14:49:07: Thread 3 - cpt=4\n",
      "14:49:07: Thread 1 - cpt=4\n",
      "14:49:07: Thread 2 - cpt=4\n",
      "14:49:07: Thread 0 - cpt=5\n",
      "14:49:07: Thread 3 - cpt=5\n",
      "14:49:07: Thread 1 - cpt=5\n",
      "14:49:07: Thread 2 - cpt=5\n",
      "14:49:07: Thread 0 - cpt=6\n",
      "14:49:07: Thread 3 - cpt=6\n",
      "14:49:07: Thread 1 - cpt=6\n",
      "14:49:07: Thread 2 - cpt=6\n",
      "14:49:07: Thread 0 - cpt=7\n",
      "14:49:07: Thread 3 - cpt=7\n",
      "14:49:07: Thread 1 - cpt=7\n",
      "14:49:07: Thread 2 - cpt=7\n",
      "14:49:07: Thread 0 - cpt=8\n",
      "14:49:07: Thread 3 - cpt=8\n",
      "14:49:07: Thread 1 - cpt=8\n",
      "14:49:07: Thread 2 - cpt=8\n",
      "14:49:07: Thread 0 - cpt=9\n",
      "14:49:07: Thread 3 - cpt=9\n",
      "14:49:07: Thread 1 - cpt=9\n",
      "14:49:07: Thread 2 - cpt=9\n",
      "14:49:07: Thread 3 - cpt=10\n",
      "14:49:07: Valeur finale = 11\n"
     ]
    }
   ],
   "source": [
    "# Programmation concurente - Compteur partagé\n",
    "# Illustration du problème de concurrence v1\n",
    "import threading\n",
    "import logging\n",
    "import time\n",
    "\n",
    "COMPTEUR = 0 # Ressource partagée\n",
    "\n",
    "# Fonction associée aux threads 0 à 3\n",
    "def incrc(n):\n",
    "    global COMPTEUR\n",
    "    for _ in range(10):\n",
    "        v = COMPTEUR\n",
    "        logging.info(f\"Thread {n} - cpt={COMPTEUR}\")\n",
    "        COMPTEUR = v + 1\n",
    "\n",
    "# Programme principal\n",
    "format = \"%(asctime)s: %(message)s\"\n",
    "logging.basicConfig(format=format, level=logging.INFO,\n",
    "                        datefmt=\"%H:%M:%S\", encoding='utf-8')\n",
    "th=[] # tableau de threads\n",
    "for n in range(4):\n",
    "    t = threading.Thread(target=incrc, args=[n])\n",
    "    t.start()\n",
    "    th.append(t)\n",
    "\n",
    "for t in th: # Permet d'attendre que tous les threads soient terminés avant de poursuivre\n",
    "    t.join() # dans le programme principal\n",
    "\n",
    "logging.info(f\"Valeur finale = {COMPTEUR}\") # Cette ligne est exécutée lorsque tous les threads sont terminés"
   ]
  },
  {
   "cell_type": "markdown",
   "metadata": {},
   "source": [
    "> **Activité 2. Analyse et tests** du programme ci-dessus. <br>\n",
    "> 1. Que fait la fonction incrc ? \n",
    "> 2. Quelle doit être la valeur de COMPTEUR à la fin du programme ? \n",
    "> 3. Testez le programme plusieurs fois. La valeur est-elle toujours celle supposée ? Pourquoi ?"
   ]
  },
  {
   "cell_type": "markdown",
   "metadata": {},
   "source": [
    "<p style=\"color:blue; font-weight:bold\"><em>Réponse Activité 2</em></p>\n",
    "A rédiger ici"
   ]
  },
  {
   "cell_type": "markdown",
   "metadata": {},
   "source": [
    "#### 3.B Section critique\n",
    "<em>Pour corriger le problème identifié dans le code précédent, il faut rendre <strong>EXCLUSIF</strong> l'accès à la variable <strong>COMPTEUR</strong>. On peut pour cela utiliser un verrou. Un <strong>verrou</strong> est un objet que l'on essaye d'acquérir. Si un thread est le premier à en faire la demande, il l'acquiert. Il peut le rendre à tout moment. Si en revanche un autre thread le détient alors tous les threads qui tentent d'y accéder sont bloqués jusqu'à ce qu'il soit libéré. On construit un verrou avec la méthode <strong>Lock()</strong> du <strong>module threading</strong>. On peut alors tenter de l'acquérir avec la méthode <strong>acquire()</strong> et le rendre avec la méthode <strong>release()</strong>.</em>"
   ]
  },
  {
   "cell_type": "markdown",
   "metadata": {},
   "source": [
    "<table><tr><td style=\"color:blue; font-size:14px\"><strong>NOTE</strong> : Une portion de code protégée par un verrou s'appelle une <strong>SECTION CRITIQUE</strong>.</td></tr></table>"
   ]
  },
  {
   "cell_type": "code",
   "execution_count": null,
   "metadata": {},
   "outputs": [],
   "source": [
    "# Programmation concurente - Compteur partagé\n",
    "# Illustration du problème de concurrence v1\n",
    "import threading\n",
    "import logging\n",
    "import time\n",
    "\n",
    "COMPTEUR = 0 # Ressource partagée\n",
    "verrou = threading.Lock() # construction du verrou\n",
    "\n",
    "# Fonction associée aux threads 0 à 3\n",
    "def incrc(n):\n",
    "    global COMPTEUR\n",
    "    for _ in range(10):\n",
    "        ...\n",
    "        v = COMPTEUR\n",
    "        logging.info(f\"Thread {n} - cpt={COMPTEUR}\")\n",
    "        COMPTEUR = v + 1\n",
    "        ...\n",
    "\n",
    "# Programme principal\n",
    "format = \"%(asctime)s: %(message)s\"\n",
    "logging.basicConfig(format=format, level=logging.INFO,\n",
    "                        datefmt=\"%H:%M:%S\", encoding='utf-8')\n",
    "th=[] # tableau de threads\n",
    "for n in range(4):\n",
    "    t = threading.Thread(target=incrc, args=[n])\n",
    "    t.start()\n",
    "    th.append(t)\n",
    "\n",
    "for t in th: # Permet d'attendre que tous les threads soient terminés avant de poursuivre\n",
    "    t.join() # dans le programme principal\n",
    "\n",
    "logging.info(f\"Valeur finale = {COMPTEUR}\") # Cette ligne est exécutée lorsque tous les threads sont terminés"
   ]
  },
  {
   "cell_type": "markdown",
   "metadata": {},
   "source": [
    "> **Activité 3**<br>\n",
    "> Un verrou est créé dans le programme ci-dessus par : <span style=\"font-family:Consolas;font-weight:bold;font-style:normal\">verrou = threading.Lock()</span> <br>\n",
    "> L'objet verrou possède deux méthodes : **acquire()** et **release()**  <br>\n",
    "> <br>\n",
    "> a) Placez le verrou dans le code ci-dessus pour protéger la section critique. <br>\n",
    "> b) Testez le programme avec différentes bornes pour la boucle for. Que remarquez-vous ? <br>\n",
    "> c) Expliquez pourquoi on a corrigé le problème de concurrence entre les threads t0, t1, t2 et t3."
   ]
  },
  {
   "cell_type": "markdown",
   "metadata": {},
   "source": [
    "<p style=\"color:blue; font-weight:bold\"><em>Réponse Activité 3</em></p>\n",
    "A rédiger ici"
   ]
  },
  {
   "cell_type": "markdown",
   "metadata": {},
   "source": [
    "### 4. Interblocage\n",
    "L'interblocage se produit lorsque des processus concurrents **s'attendent mutuellement**. L'utilisation de plusieurs verrous rend le risque d'**interblocages** possible.<br>\n",
    "Dans l'exemple ci-dessous **P1** et **P2** sont **interbloqués** car : <br>\n",
    "- Le processus **P1** dispose de la ressource **D1** et attend la ressource **D2**. <br>\n",
    "- Le processus **P2** dispose de la ressource **D2** et attend la ressource **D1**. <br>\n",
    "<img src=\"img/interblocage.png\">"
   ]
  },
  {
   "cell_type": "code",
   "execution_count": 4,
   "metadata": {},
   "outputs": [
    {
     "name": "stderr",
     "output_type": "stream",
     "text": [
      "14:51:32: P1 a acquit D1\n",
      "14:51:32: P2 a acquit D2\n"
     ]
    }
   ],
   "source": [
    "# Illustration de linterblocage\n",
    "# La fonction P1 essaye d'acquérir d'abord verrou1 puis verrou2, alors que P2 essaye de \n",
    "# les acquérir dans l'ordre inverse.\n",
    "# Si on exécute ce programme, il a de grandes chances de se retrouver bloqué.\n",
    "import threading\n",
    "import logging\n",
    "\n",
    "verrou1 = threading.Lock()\n",
    "verrou2 = threading.Lock()\n",
    "\n",
    "def p1():\n",
    "    verrou1.acquire()\n",
    "    logging.info(\"P1 a acquit D1\")  \n",
    "    verrou2.acquire()\n",
    "    logging.info(\"P1 a acquit D2\")\n",
    "    verrou2.release()\n",
    "    logging.info(\"P1 a rendu D2\")\n",
    "    verrou1.release()\n",
    "    logging.info(\"P1 a rendu D1\")\n",
    "    \n",
    "    \n",
    "def p2():\n",
    "    verrou2.acquire()\n",
    "    logging.info(\"P2 a acquit D2\")  \n",
    "    verrou1.acquire()\n",
    "    logging.info(\"P2 a acquit D1\")\n",
    "    verrou1.release()\n",
    "    logging.info(\"P2 a rendu D1\")\n",
    "    verrou2.release()\n",
    "    logging.info(\"P2 a rendu D2\")\n",
    "\n",
    "# Programme principal\n",
    "format = \"%(asctime)s: %(message)s\"\n",
    "logging.basicConfig(format=format, level=logging.INFO,\n",
    "                        datefmt=\"%H:%M:%S\", encoding='utf-8')\n",
    "\n",
    "t1 = threading.Thread(target=p1, args=[])\n",
    "t2 = threading.Thread(target=p2, args=[])\n",
    "t1.start()\n",
    "t2.start()\n"
   ]
  },
  {
   "cell_type": "markdown",
   "metadata": {},
   "source": [
    "> **Activité 4a. Analyse** du programme ci-dessus <br>\n",
    "Quel pourrait être le texte affiché par le programme : <br>\n",
    "a) S'il ne se bloque pas ? <br>\n",
    "b) S'il se bloque ?  "
   ]
  },
  {
   "cell_type": "markdown",
   "metadata": {},
   "source": [
    "<p style=\"color:blue; font-weight:bold\"><em>Réponse Activité 4a</em></p>\n",
    "A rédiger ici"
   ]
  },
  {
   "cell_type": "markdown",
   "metadata": {},
   "source": [
    "> **Activité 4b** <br>\n",
    ">**Supprimer** l'interblocage dans le programme ci-dessous."
   ]
  },
  {
   "cell_type": "code",
   "execution_count": null,
   "metadata": {},
   "outputs": [],
   "source": [
    "# Illustration de linterblocage\n",
    "# La fonction P1 essaye d'acquérir d'abord verrou1 puis verrou2, alors que P2 essaye de \n",
    "# les acquérir dans l'ordre inverse.\n",
    "# Si on exécute ce programme, il a de grandes chances de se retrouver bloqué.\n",
    "import threading\n",
    "import logging\n",
    "\n",
    "verrou1 = threading.Lock()\n",
    "verrou2 = threading.Lock()\n",
    "\n",
    "def p1():\n",
    "    verrou1.acquire()\n",
    "    logging.info(\"P1 a acquit D1\")  \n",
    "    verrou2.acquire()\n",
    "    logging.info(\"P1 a acquit D2\")\n",
    "    verrou2.release()\n",
    "    logging.info(\"P1 a rendu D2\")\n",
    "    verrou1.release()\n",
    "    logging.info(\"P1 a rendu D1\")\n",
    "    \n",
    "    \n",
    "def p2():\n",
    "    verrou2.acquire()\n",
    "    logging.info(\"P2 a acquit D2\")  \n",
    "    verrou1.acquire()\n",
    "    logging.info(\"P2 a acquit D1\")\n",
    "    verrou1.release()\n",
    "    logging.info(\"P2 a rendu D1\")\n",
    "    verrou2.release()\n",
    "    logging.info(\"P2 a rendu D2\")\n",
    "\n",
    "# Programme principal\n",
    "format = \"%(asctime)s: %(message)s\"\n",
    "logging.basicConfig(format=format, level=logging.INFO,\n",
    "                        datefmt=\"%H:%M:%S\", encoding='utf-8')\n",
    "\n",
    "t1 = threading.Thread(target=p1, args=[])\n",
    "t2 = threading.Thread(target=p2, args=[])\n",
    "t1.start()\n",
    "t2.start()\n"
   ]
  },
  {
   "cell_type": "markdown",
   "metadata": {},
   "source": [
    "### 5. SYNTHESE"
   ]
  },
  {
   "cell_type": "markdown",
   "metadata": {},
   "source": [
    "> **Activité 5**<br>\n",
    "> En vous inspirant du programme du paragraphe 2, **écrivez** un programme qui crée et démarre **quatre** fonctions concurrentes affichant plusieurs fois un message de bienvenue personnalisé (maximum **dix** fois le message).<br>\n",
    "\n",
    "> *Exemple de résultats attendus*<br>\n",
    "Bonjour, je suis le thread 0 et ceci est le message 1<br>\n",
    "... <br>\n",
    "Message de bienvenue du thread 1 qui transmet son message 3<br>\n",
    "... <br>"
   ]
  },
  {
   "cell_type": "code",
   "execution_count": null,
   "metadata": {},
   "outputs": [],
   "source": [
    "# Programmation concurente - Messages différents dans chaque thread\n",
    "\n",
    "import threading\n",
    "import logging\n",
    "\n",
    "'''\n",
    "numth : numéro du thread\n",
    "msg : tableau contenant les messages à afficher\n",
    "nb : tableau contenant le nombre de messages que chaque thread doit produire\n",
    "'''\n",
    "\n",
    "# A compléter"
   ]
  },
  {
   "cell_type": "markdown",
   "metadata": {},
   "source": [
    "> **Activité 6a** <br>\n",
    "> On considère un petit système embarqué : un **microcontrôleur** relié à trois **LED A, B, C**. Une LED peut être éteinte ou éclairée et on peut configurer sa couleur. On dispose de trois programmes qui affichent des signaux lumineux en faisant clignoter les LED. Chaque programme possède une LED primaire et une LED secondaire. <br>\n",
    "> - Le programme P1 émet ses signaux sur A (primaire) et B (secondaire) en vert.<br>\n",
    "> - Le programme P2 émet ses signaux sur B (primaire) et C (secondaire) en bleu.<br>\n",
    "> - Le programme P3 émet ses signaux sur C (primaire) et A (secondaire) en rouge.<br>\n",
    ">\n",
    "> Comme les LED ne peuvent pas être configurées dans deux couleurs en même temps, le système propose deux primitives **acquerirLED(nom)** et **rendreLED(nom)** qui permettent respectivement d'acquérir et de relâcher une LED. <br> **nom** prend la valeur primaire ou secondaire. <br> Si une LED est déjà acquise par un programme Pi alors acquerirLED(nom) dans un programme Pj bloque Pj (i différent de j).<br>\n",
    "> On suppose que chacun des trois programmes P1, P2, P3 effectue les **actions** suivantes en boucle :<br>\n",
    "> 1. acquérir la LED primaire\n",
    "> 2. acquérir la LED secondaire\n",
    "> 3. configurer les couleurs\n",
    "> 4. émettre des signaux\n",
    "> 5. rendre la LED secondaire \n",
    "> 6. rendre la LED primaire puis\n",
    "> recommencer en 1\n",
    ">\n",
    "> **Montrer** qu'il existe un entrelacement des exécutions qui place **P1, P2 et P3 en interblocage**."
   ]
  },
  {
   "cell_type": "markdown",
   "metadata": {},
   "source": [
    "<p style=\"color:blue; font-weight:bold\"><em>Réponse 6a</em></p>\n",
    "A rédiger ici"
   ]
  },
  {
   "cell_type": "markdown",
   "metadata": {},
   "source": [
    "> **Activité 6b** <br>\n",
    "Téléchargez, copiez et complétez le code situé ici : https://gist.github.com/WebGE/f24c17bb13f10b38eaf21725451e3754\n",
    ">\n",
    "> *Exemple de résultats attendus*<br>\n",
    "11:21:14: LedA=vert par P1 <br>\n",
    "11:21:14: LedB=vert par P1 <br>\n",
    "11:21:14: LedC=rouge par P3 <br>\n",
    "11:21:14: LedB relachée par P1 <br>\n",
    "11:21:14: LedB=bleu par P2 <br>\n",
    "11:21:14: LedA relachée par P1 <br>\n",
    "11:21:14: LedA=rouge par P3 <br>\n",
    "11:21:14: LedA relachée par P3 <br>\n",
    "11:21:14: LedA=vert par P1 <br>\n",
    "11:21:14: LedC relachée par P3 <br>\n",
    "11:21:14: LedC=bleu par P2 <br>\n",
    "11:21:14: LedC relachée par P2 <br>"
   ]
  },
  {
   "cell_type": "code",
   "execution_count": null,
   "metadata": {},
   "outputs": [],
   "source": [
    "# MICROLED - Illustration de l'interblocage dans la commande des Leds\n",
    "# A compléter"
   ]
  },
  {
   "cell_type": "markdown",
   "metadata": {},
   "source": [
    "### 6. A retenir\n",
    "<em>Les systèmes d'exploitation multitâches sont la norme. Ils permettent d'exécuter de façon <strong>concurrente</strong> plusieurs programmes. L'exécution d'un programme s'appelle un <strong>processus</strong>. C'est le système d'exploitation et en particulier l'<strong>ordonnanceur</strong>, qui détermine quel processus s'exécute à un instant donné. Le fait pour un processus d'être interrompu s'appelle une <strong>commutation de contexte</strong>. Plusieurs processus s'exécutant de façon concurrente peuvent s'<strong>interbloquer</strong> s'ils attendent de pouvoir accéder à un même ensemble de <strong>ressources en accès exclusif</strong>. Les <strong>threads</strong> ou <strong>processus légers</strong> sont des \"sous-processus\" s'exécutant de manière concurrente. L'accès à des ressources par plusieurs threads peut être protégé par des <strong>verrous</strong>. Une portion de code comprise entre l'acquisition et le relâchement d'un verrou s'appelle une <strong>section critique</strong>.</em> Numérique et Sciences Informatiques - <span class=\"codepy\">ellipses</span>"
   ]
  },
  {
   "cell_type": "code",
   "execution_count": null,
   "metadata": {},
   "outputs": [],
   "source": []
  }
 ],
 "metadata": {
  "kernelspec": {
   "display_name": "Python 3 (ipykernel)",
   "language": "python",
   "name": "python3"
  },
  "language_info": {
   "codemirror_mode": {
    "name": "ipython",
    "version": 3
   },
   "file_extension": ".py",
   "mimetype": "text/x-python",
   "name": "python",
   "nbconvert_exporter": "python",
   "pygments_lexer": "ipython3",
   "version": "3.10.2"
  }
 },
 "nbformat": 4,
 "nbformat_minor": 4
}
